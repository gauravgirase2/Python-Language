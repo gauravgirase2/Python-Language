{
  "cells": [
    {
      "cell_type": "markdown",
      "source": [
        "Write a program to demonstrate number of data types in python "
      ],
      "metadata": {
        "id": "qNZWoP8NCc0g"
      }
    },
    {
      "cell_type": "code",
      "source": [
        "a = 2\n",
        "b = 3\n",
        "\n",
        "print(a+b)\n",
        "\n",
        "\n",
        "a = 6\n",
        "b = 3\n",
        "\n",
        "print(a-b)\n",
        "\n",
        "\n",
        "a = 2\n",
        "b = 3\n",
        "\n",
        "print(a * b)\n",
        "\n",
        "a= 15\n",
        "b = 3\n",
        "\n",
        "print(a / b)\n",
        "\n",
        "a = 5\n",
        "b = 3\n",
        "\n",
        "print(a % b)\n",
        "\n",
        "a= 3\n",
        "b= 3\n",
        "\n",
        "print(a ** b) \n",
        "\n",
        "a = 12\n",
        "b = 3\n",
        "\n",
        "print(a // b)\n",
        "\n",
        "#the floor division // rounds the result down to the nearest whole number"
      ],
      "metadata": {
        "id": "GWZ20k4QCc9R",
        "outputId": "2d897de8-8f84-4009-e8eb-4671d57c1e11",
        "colab": {
          "base_uri": "https://localhost:8080/"
        }
      },
      "execution_count": 10,
      "outputs": [
        {
          "output_type": "stream",
          "name": "stdout",
          "text": [
            "5\n",
            "3\n",
            "6\n",
            "5.0\n",
            "2\n",
            "27\n",
            "4\n"
          ]
        }
      ]
    }
  ],
  "metadata": {
    "colab": {
      "collapsed_sections": [],
      "name": "Welcome to Colaboratory",
      "toc_visible": true,
      "provenance": []
    },
    "kernelspec": {
      "display_name": "Python 3",
      "name": "python3"
    }
  },
  "nbformat": 4,
  "nbformat_minor": 0
}